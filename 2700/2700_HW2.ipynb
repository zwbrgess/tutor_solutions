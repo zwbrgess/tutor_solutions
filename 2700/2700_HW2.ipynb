{
 "cells": [
  {
   "attachments": {},
   "cell_type": "markdown",
   "metadata": {},
   "source": [
    "### Class: Discrete Structures\n",
    "### Teacher: Top"
   ]
  },
  {
   "attachments": {},
   "cell_type": "markdown",
   "metadata": {},
   "source": []
  },
  {
   "attachments": {},
   "cell_type": "markdown",
   "metadata": {},
   "source": [
    "## <center> Question #2 </center>\n",
    "\n",
    "Recall that P(S) denotes the power set of S, which is the set of all subsets of S. Let A and B be sets. Are the following statements true or false? If true, prove it. If false, provide a counterexample and explain why it disproves the statement. Here, a “counterexample” refers to specific values of A and B.\n",
    "- $P(A) \\cup P(B) \\subseteq P(A \\cup B)$\n",
    "- $P(A) \\cup P(B) = P(A \\cup B)$"
   ]
  },
  {
   "cell_type": "code",
   "execution_count": null,
   "metadata": {},
   "outputs": [],
   "source": []
  },
  {
   "attachments": {},
   "cell_type": "markdown",
   "metadata": {},
   "source": []
  }
 ],
 "metadata": {
  "language_info": {
   "name": "python"
  },
  "orig_nbformat": 4
 },
 "nbformat": 4,
 "nbformat_minor": 2
}
